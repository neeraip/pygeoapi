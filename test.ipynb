{
 "cells": [
  {
   "cell_type": "code",
   "execution_count": 5,
   "id": "753d152b",
   "metadata": {},
   "outputs": [],
   "source": [
    "from geopandas import read_parquet\n",
    "\n",
    "file_path = \"./data/manhole_am.parquet\"\n",
    "\n",
    "gdf = read_parquet(file_path)"
   ]
  },
  {
   "cell_type": "code",
   "execution_count": 6,
   "id": "fe0d3c2f",
   "metadata": {},
   "outputs": [
    {
     "data": {
      "text/plain": [
       "id                                                            1713951\n",
       "city                                                              NaT\n",
       "name                                                           30101A\n",
       "is_ineligib                                                       NaT\n",
       "is_cond_est                                                       NaT\n",
       "                                               ...                   \n",
       "tag_object__tag                                                   NaT\n",
       "coordinate_object__xcoord                            -93.727596118247\n",
       "coordinate_object__ycoord                             38.726537354227\n",
       "geometry                     POINT (-93.727596118247 38.726537354227)\n",
       "NEER_UNIQUE_FID                                                     1\n",
       "Name: 1, Length: 179, dtype: object"
      ]
     },
     "execution_count": 6,
     "metadata": {},
     "output_type": "execute_result"
    }
   ],
   "source": [
    "gdf.iloc[0]"
   ]
  }
 ],
 "metadata": {
  "kernelspec": {
   "display_name": ".venv",
   "language": "python",
   "name": "python3"
  },
  "language_info": {
   "codemirror_mode": {
    "name": "ipython",
    "version": 3
   },
   "file_extension": ".py",
   "mimetype": "text/x-python",
   "name": "python",
   "nbconvert_exporter": "python",
   "pygments_lexer": "ipython3",
   "version": "3.13.0"
  }
 },
 "nbformat": 4,
 "nbformat_minor": 5
}
